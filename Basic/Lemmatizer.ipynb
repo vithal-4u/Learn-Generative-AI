{
 "cells": [
  {
   "attachments": {},
   "cell_type": "markdown",
   "id": "7e372fbb-0d4e-470b-8781-6be3bb2a9fea",
   "metadata": {},
   "source": [
    "## Lemmatizer: A Lemmatizer in NLTK is a tool used in Natural Language Processing (NLP) to reduce words to their base or dictionary form called a lemma. Unlike stemming, which simply chops off prefixes or suffixes and may produce non-words, lemmatization considers the word's meaning and part of speech (POS), ensuring that the base form is a valid word found in the dictionary.\n",
    "\n",
    "### In NLTK, this functionality is provided by the WordNetLemmatizer class, which leverages the WordNet lexical database to find the shortest valid lemma for a given word. The lemmatizer can take an optional POS tag to improve the accuracy of the reduction (e.g., \"running\" lemmatized as a verb becomes \"run\", while as a noun it stays \"running\")."
   ]
  },
  {
   "cell_type": "code",
   "execution_count": 14,
   "id": "8e573035-1110-43da-b334-6bfe7edb762e",
   "metadata": {},
   "outputs": [],
   "source": [
    "from nltk.stem import WordNetLemmatizer\n",
    "\n",
    "lemmatizer=WordNetLemmatizer()"
   ]
  },
  {
   "cell_type": "code",
   "execution_count": 16,
   "id": "4e3e72e5-6dad-4546-a5af-e1722033b474",
   "metadata": {},
   "outputs": [
    {
     "data": {
      "text/plain": [
       "'go'"
      ]
     },
     "execution_count": 16,
     "metadata": {},
     "output_type": "execute_result"
    }
   ],
   "source": [
    "'''\n",
    "POS- Noun-n\n",
    "verb-v\n",
    "adjective-a\n",
    "adverb-r\n",
    "'''\n",
    "lemmatizer.lemmatize(\"going\",pos='v')"
   ]
  },
  {
   "cell_type": "code",
   "execution_count": 18,
   "id": "3fde2ef2-4208-45c0-a0ca-a0f0191572c6",
   "metadata": {},
   "outputs": [],
   "source": [
    "words=[\"eating\",\"eats\",\"eaten\",\"writing\",\"writes\",\"programming\",\"programs\",\"history\",\"finally\",\"finalized\"]"
   ]
  },
  {
   "cell_type": "code",
   "execution_count": 20,
   "id": "f56627b7-c3dd-48aa-a81f-e18073c4f367",
   "metadata": {},
   "outputs": [
    {
     "name": "stdout",
     "output_type": "stream",
     "text": [
      "eating---->eat\n",
      "eats---->eat\n",
      "eaten---->eat\n",
      "writing---->write\n",
      "writes---->write\n",
      "programming---->program\n",
      "programs---->program\n",
      "history---->history\n",
      "finally---->finally\n",
      "finalized---->finalize\n"
     ]
    }
   ],
   "source": [
    "for word in words:\n",
    "    print(word+\"---->\"+lemmatizer.lemmatize(word,pos='v'))"
   ]
  },
  {
   "cell_type": "code",
   "execution_count": 22,
   "id": "a930465d-03ae-4483-bf85-93641aa8559c",
   "metadata": {},
   "outputs": [
    {
     "data": {
      "text/plain": [
       "'go'"
      ]
     },
     "execution_count": 22,
     "metadata": {},
     "output_type": "execute_result"
    }
   ],
   "source": [
    "lemmatizer.lemmatize(\"goes\",pos='v')"
   ]
  },
  {
   "cell_type": "code",
   "execution_count": 24,
   "id": "55c69b6a-1607-444b-a486-42582cd0fbd4",
   "metadata": {},
   "outputs": [
    {
     "data": {
      "text/plain": [
       "('fairly', 'sportingly')"
      ]
     },
     "execution_count": 24,
     "metadata": {},
     "output_type": "execute_result"
    }
   ],
   "source": [
    "lemmatizer.lemmatize(\"fairly\",pos='v'),lemmatizer.lemmatize(\"sportingly\")"
   ]
  },
  {
   "cell_type": "code",
   "execution_count": 34,
   "id": "d182c7d7-0b7e-4eeb-8fcf-4b2121f551ad",
   "metadata": {},
   "outputs": [
    {
     "data": {
      "text/plain": [
       "'university'"
      ]
     },
     "execution_count": 34,
     "metadata": {},
     "output_type": "execute_result"
    }
   ],
   "source": [
    "lemmatizer.lemmatize(\"university\",pos='r')"
   ]
  },
  {
   "cell_type": "code",
   "execution_count": null,
   "id": "aec52367-fcf4-40e9-b62d-32a00a16f2d9",
   "metadata": {},
   "outputs": [],
   "source": []
  }
 ],
 "metadata": {
  "kernelspec": {
   "display_name": "Python 3 (ipykernel)",
   "language": "python",
   "name": "python3"
  },
  "language_info": {
   "codemirror_mode": {
    "name": "ipython",
    "version": 3
   },
   "file_extension": ".py",
   "mimetype": "text/x-python",
   "name": "python",
   "nbconvert_exporter": "python",
   "pygments_lexer": "ipython3",
   "version": "3.12.4"
  }
 },
 "nbformat": 4,
 "nbformat_minor": 5
}
