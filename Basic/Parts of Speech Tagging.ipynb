{
 "cells": [
  {
   "cell_type": "markdown",
   "id": "039ce3b7-0871-4443-bf11-6eaba0b757bc",
   "metadata": {},
   "source": [
    "## Parts of Speech Tagging \n",
    "\n",
    "The parts of speech (POS) tags in NLTK are labels assigned to words in a sentence that indicate their grammatical category, such as noun, verb, adjective, etc. NLTK uses the Penn Treebank tagset by default, which includes tags like:\n"
   ]
  },
  {
   "cell_type": "raw",
   "id": "16cb7d38-8a31-4e2b-a6a0-678c95ca780a",
   "metadata": {},
   "source": [
    "CC coordinating conjunction\n",
    "CD cardinal digit\n",
    "DT determiner\n",
    "EX existential there (like: “there is” … think of it like “there exists”)\n",
    "FW foreign word\n",
    "IN preposition/subordinating conjunction\n",
    "JJ adjective – ‘big’\n",
    "JJR adjective, comparative – ‘bigger’ \n",
    "JJS adjective, superlative – ‘biggest’ \n",
    "LS list marker 1) \n",
    "MD modal – could, will \n",
    "NN noun, singular ‘- desk’ \n",
    "NNS noun plural – ‘desks’ \n",
    "NNP proper noun, singular – ‘Harrison’ \n",
    "NNPS proper noun, plural – ‘Americans’ \n",
    "PDT predeterminer – ‘all the kids’ \n",
    "POS possessive ending parent’s \n",
    "PRP personal pronoun –  I, he, she \n",
    "PRP$ possessive pronoun – my, his, hers \n",
    "RB adverb – very, silently, \n",
    "RBR adverb, comparative – better \n",
    "RBS adverb, superlative – best \n",
    "RP particle – give up \n",
    "TO – to go ‘to’ the store. \n",
    "UH interjection – errrrrrrrm \n",
    "VB verb, base form – take \n",
    "VBD verb, past tense – took \n",
    "VBG verb, gerund/present participle – taking \n",
    "VBN verb, past participle – taken \n",
    "VBP verb, sing. present, non-3d – take \n",
    "VBZ verb, 3rd person sing. present – takes \n",
    "WDT wh-determiner – which \n",
    "WP wh-pronoun – who, what \n",
    "WP$ possessive wh-pronoun, eg- whose \n",
    "WRB wh-adverb, eg- where, when\n"
   ]
  },
  {
   "cell_type": "code",
   "execution_count": 23,
   "id": "8aaeebcc-d536-4cbd-a1b2-b8bc88d1bea1",
   "metadata": {},
   "outputs": [],
   "source": [
    "paragraph= \"\"\"Krishna was born in Mathura to Vasudeva and Devaki under extraordinary circumstances. His maternal uncle Kamsa, a tyrant king, feared a prophecy that Krishna would kill him, so Krishna was secretly transported to the village of Gokula and raised by foster parents Nanda and Yashoda to protect him from assassination attempts in his early childhood\n",
    "    In his childhood and youth in Vrindavan, Krishna was known for mischievous pranks (such as stealing butter), his love for cows, and miraculous deeds like lifting the Govardhan Hill to protect the villagers from a storm. He played the flute and enchanted the Gopis, with Radha being his most beloved.  He also slew many demons sent by Kamsa and performed numerous divine feats during this time\n",
    "    As he grew older, Krishna returned to Mathura, killed Kamsa, reinstated the rightful king Ugrasena, and eventually led his clan, the Yadavas, to establish the kingdom of Dwaraka. He married Rukmini and several other wives, who are often considered aspects of the goddess Lakshmi. Krishna's life as a prince involved upholding righteousness and justice.\n",
    "    Krishna played a key role in the epic Mahabharata. While he refused to fight, he offered his personal service and strategic counsel to the Pandavas and served as Arjuna’s charioteer during the Kurukshetra war. His teachings there are encapsulated in the Bhagavad Gita, a foundational spiritual text on duty, righteousness, and devotion.\n",
    "    According to tradition, Krishna lived for about 125 years, eventually dying from a hunter’s arrow to his vulnerable heel in Prabhas Patan, near modern Somnath. His death came after a curse on the Yadava clan and marked the end of his earthly incarnation.\n",
    "    Krishna embodies the ideals of love, devotion (bhakti), wisdom, and selfless action. His life story includes many lessons on compassion, dharma (righteousness), karma (action), and spiritual realization, deeply influencing Indian culture, spirituality, and arts.\n",
    "    In brief, Krishna's life journey spans miraculous birth, playful childhood, warrior prince, spiritual guide, and divine incarnation, making him one of Hinduism’s most celebrated and multifaceted deities.\n",
    "\"\"\""
   ]
  },
  {
   "cell_type": "code",
   "execution_count": 27,
   "id": "a2daa65c-3a4b-43ad-b4cb-b2049e16a468",
   "metadata": {},
   "outputs": [],
   "source": [
    "import nltk\n",
    "from nltk.corpus import stopwords\n",
    "sentences=nltk.sent_tokenize(paragraph)"
   ]
  },
  {
   "cell_type": "code",
   "execution_count": 35,
   "id": "34b66c8b-5fee-43ad-a893-f40f911d37a9",
   "metadata": {},
   "outputs": [
    {
     "data": {
      "text/plain": [
       "['Krishna was born in Mathura to Vasudeva and Devaki under extraordinary circumstances.',\n",
       " 'His maternal uncle Kamsa, a tyrant king, feared a prophecy that Krishna would kill him, so Krishna was secretly transported to the village of Gokula and raised by foster parents Nanda and Yashoda to protect him from assassination attempts in his early childhood\\n    In his childhood and youth in Vrindavan, Krishna was known for mischievous pranks (such as stealing butter), his love for cows, and miraculous deeds like lifting the Govardhan Hill to protect the villagers from a storm.',\n",
       " 'He played the flute and enchanted the Gopis, with Radha being his most beloved.',\n",
       " 'He also slew many demons sent by Kamsa and performed numerous divine feats during this time\\n    As he grew older, Krishna returned to Mathura, killed Kamsa, reinstated the rightful king Ugrasena, and eventually led his clan, the Yadavas, to establish the kingdom of Dwaraka.',\n",
       " 'He married Rukmini and several other wives, who are often considered aspects of the goddess Lakshmi.',\n",
       " \"Krishna's life as a prince involved upholding righteousness and justice.\",\n",
       " 'Krishna played a key role in the epic Mahabharata.',\n",
       " 'While he refused to fight, he offered his personal service and strategic counsel to the Pandavas and served as Arjuna’s charioteer during the Kurukshetra war.',\n",
       " 'His teachings there are encapsulated in the Bhagavad Gita, a foundational spiritual text on duty, righteousness, and devotion.',\n",
       " 'According to tradition, Krishna lived for about 125 years, eventually dying from a hunter’s arrow to his vulnerable heel in Prabhas Patan, near modern Somnath.',\n",
       " 'His death came after a curse on the Yadava clan and marked the end of his earthly incarnation.',\n",
       " 'Krishna embodies the ideals of love, devotion (bhakti), wisdom, and selfless action.',\n",
       " 'His life story includes many lessons on compassion, dharma (righteousness), karma (action), and spiritual realization, deeply influencing Indian culture, spirituality, and arts.',\n",
       " \"In brief, Krishna's life journey spans miraculous birth, playful childhood, warrior prince, spiritual guide, and divine incarnation, making him one of Hinduism’s most celebrated and multifaceted deities.\"]"
      ]
     },
     "execution_count": 35,
     "metadata": {},
     "output_type": "execute_result"
    }
   ],
   "source": [
    "sentences"
   ]
  },
  {
   "cell_type": "code",
   "execution_count": 37,
   "id": "07cb6031-66ca-4f85-9b06-d88f0894d0d1",
   "metadata": {},
   "outputs": [
    {
     "name": "stderr",
     "output_type": "stream",
     "text": [
      "[nltk_data] Downloading package averaged_perceptron_tagger to\n",
      "[nltk_data]     /Users/ashokkumar.k/nltk_data...\n",
      "[nltk_data]   Package averaged_perceptron_tagger is already up-to-\n",
      "[nltk_data]       date!\n"
     ]
    },
    {
     "data": {
      "text/plain": [
       "True"
      ]
     },
     "execution_count": 37,
     "metadata": {},
     "output_type": "execute_result"
    }
   ],
   "source": [
    "nltk.download('averaged_perceptron_tagger')"
   ]
  },
  {
   "cell_type": "code",
   "execution_count": 31,
   "id": "e1942046-486c-4464-9c32-c68dcb1f8261",
   "metadata": {},
   "outputs": [
    {
     "name": "stdout",
     "output_type": "stream",
     "text": [
      "[('Krishna', 'NNP'), ('born', 'VBD'), ('Mathura', 'NNP'), ('Vasudeva', 'NNP'), ('Devaki', 'NNP'), ('extraordinary', 'JJ'), ('circumstances', 'NNS'), ('.', '.')]\n",
      "[('His', 'PRP$'), ('maternal', 'JJ'), ('uncle', 'NN'), ('Kamsa', 'NNP'), (',', ','), ('tyrant', 'JJ'), ('king', 'NN'), (',', ','), ('feared', 'VBN'), ('prophecy', 'NN'), ('Krishna', 'NNP'), ('would', 'MD'), ('kill', 'VB'), (',', ','), ('Krishna', 'NNP'), ('secretly', 'RB'), ('transported', 'VBD'), ('village', 'NN'), ('Gokula', 'NNP'), ('raised', 'VBD'), ('foster', 'JJ'), ('parents', 'NNS'), ('Nanda', 'NNP'), ('Yashoda', 'NNP'), ('protect', 'VBP'), ('assassination', 'NN'), ('attempts', 'NNS'), ('early', 'RB'), ('childhood', 'NN'), ('In', 'IN'), ('childhood', 'NN'), ('youth', 'NN'), ('Vrindavan', 'NNP'), (',', ','), ('Krishna', 'NNP'), ('known', 'VBN'), ('mischievous', 'JJ'), ('pranks', 'NNS'), ('(', '('), ('stealing', 'VBG'), ('butter', 'NN'), (')', ')'), (',', ','), ('love', 'JJ'), ('cows', 'NNS'), (',', ','), ('miraculous', 'JJ'), ('deeds', 'NNS'), ('like', 'IN'), ('lifting', 'VBG'), ('Govardhan', 'NNP'), ('Hill', 'NNP'), ('protect', 'VBP'), ('villagers', 'NNS'), ('storm', 'NN'), ('.', '.')]\n",
      "[('He', 'PRP'), ('played', 'VBD'), ('flute', 'NN'), ('enchanted', 'VBN'), ('Gopis', 'NNP'), (',', ','), ('Radha', 'NNP'), ('beloved', 'VBD'), ('.', '.')]\n",
      "[('He', 'PRP'), ('also', 'RB'), ('slew', 'VBD'), ('many', 'JJ'), ('demons', 'NNS'), ('sent', 'VBD'), ('Kamsa', 'NNP'), ('performed', 'VBD'), ('numerous', 'JJ'), ('divine', 'NN'), ('feats', 'NNS'), ('time', 'NN'), ('As', 'IN'), ('grew', 'VBD'), ('older', 'JJR'), (',', ','), ('Krishna', 'NNP'), ('returned', 'VBD'), ('Mathura', 'NNP'), (',', ','), ('killed', 'VBD'), ('Kamsa', 'NNP'), (',', ','), ('reinstated', 'VBD'), ('rightful', 'JJ'), ('king', 'NN'), ('Ugrasena', 'NNP'), (',', ','), ('eventually', 'RB'), ('led', 'VBD'), ('clan', 'NN'), (',', ','), ('Yadavas', 'NNP'), (',', ','), ('establish', 'VB'), ('kingdom', 'NN'), ('Dwaraka', 'NNP'), ('.', '.')]\n",
      "[('He', 'PRP'), ('married', 'VBD'), ('Rukmini', 'NNP'), ('several', 'JJ'), ('wives', 'NNS'), (',', ','), ('often', 'RB'), ('considered', 'VBN'), ('aspects', 'NNS'), ('goddess', 'JJ'), ('Lakshmi', 'NNP'), ('.', '.')]\n",
      "[('Krishna', 'NNP'), (\"'s\", 'POS'), ('life', 'NN'), ('prince', 'NN'), ('involved', 'VBN'), ('upholding', 'JJ'), ('righteousness', 'NN'), ('justice', 'NN'), ('.', '.')]\n",
      "[('Krishna', 'NNP'), ('played', 'VBD'), ('key', 'JJ'), ('role', 'NN'), ('epic', 'NN'), ('Mahabharata', 'NNP'), ('.', '.')]\n",
      "[('While', 'IN'), ('refused', 'JJ'), ('fight', 'NN'), (',', ','), ('offered', 'VBD'), ('personal', 'JJ'), ('service', 'NN'), ('strategic', 'JJ'), ('counsel', 'NN'), ('Pandavas', 'NNP'), ('served', 'VBD'), ('Arjuna', 'NNP'), ('’', 'NNP'), ('charioteer', 'NN'), ('Kurukshetra', 'NNP'), ('war', 'NN'), ('.', '.')]\n",
      "[('His', 'PRP$'), ('teachings', 'NNS'), ('encapsulated', 'VBD'), ('Bhagavad', 'NNP'), ('Gita', 'NNP'), (',', ','), ('foundational', 'JJ'), ('spiritual', 'JJ'), ('text', 'NN'), ('duty', 'NN'), (',', ','), ('righteousness', 'NN'), (',', ','), ('devotion', 'NN'), ('.', '.')]\n",
      "[('According', 'VBG'), ('tradition', 'NN'), (',', ','), ('Krishna', 'NNP'), ('lived', 'VBD'), ('125', 'CD'), ('years', 'NNS'), (',', ','), ('eventually', 'RB'), ('dying', 'VBG'), ('hunter', 'NN'), ('’', 'NN'), ('arrow', 'NN'), ('vulnerable', 'JJ'), ('heel', 'NN'), ('Prabhas', 'NNP'), ('Patan', 'NNP'), (',', ','), ('near', 'IN'), ('modern', 'JJ'), ('Somnath', 'NNP'), ('.', '.')]\n",
      "[('His', 'PRP$'), ('death', 'NN'), ('came', 'VBD'), ('curse', 'JJ'), ('Yadava', 'NNP'), ('clan', 'NN'), ('marked', 'VBD'), ('end', 'JJ'), ('earthly', 'JJ'), ('incarnation', 'NN'), ('.', '.')]\n",
      "[('Krishna', 'NNP'), ('embodies', 'VBZ'), ('ideals', 'NNS'), ('love', 'VB'), (',', ','), ('devotion', 'NN'), ('(', '('), ('bhakti', 'NN'), (')', ')'), (',', ','), ('wisdom', 'NN'), (',', ','), ('selfless', 'JJ'), ('action', 'NN'), ('.', '.')]\n",
      "[('His', 'PRP$'), ('life', 'NN'), ('story', 'NN'), ('includes', 'VBZ'), ('many', 'JJ'), ('lessons', 'NNS'), ('compassion', 'NN'), (',', ','), ('dharma', 'NN'), ('(', '('), ('righteousness', 'NN'), (')', ')'), (',', ','), ('karma', 'FW'), ('(', '('), ('action', 'NN'), (')', ')'), (',', ','), ('spiritual', 'JJ'), ('realization', 'NN'), (',', ','), ('deeply', 'RB'), ('influencing', 'VBG'), ('Indian', 'JJ'), ('culture', 'NN'), (',', ','), ('spirituality', 'NN'), (',', ','), ('arts', 'NNS'), ('.', '.')]\n",
      "[('In', 'IN'), ('brief', 'NN'), (',', ','), ('Krishna', 'NNP'), (\"'s\", 'POS'), ('life', 'NN'), ('journey', 'NN'), ('spans', 'VBZ'), ('miraculous', 'JJ'), ('birth', 'NN'), (',', ','), ('playful', 'JJ'), ('childhood', 'NN'), (',', ','), ('warrior', 'JJ'), ('prince', 'NN'), (',', ','), ('spiritual', 'JJ'), ('guide', 'NN'), (',', ','), ('divine', 'JJ'), ('incarnation', 'NN'), (',', ','), ('making', 'VBG'), ('one', 'CD'), ('Hinduism', 'NNP'), ('’', 'NNP'), ('celebrated', 'VBD'), ('multifaceted', 'JJ'), ('deities', 'NNS'), ('.', '.')]\n"
     ]
    }
   ],
   "source": [
    "## We will find the Pos Tag\n",
    "\n",
    "for i in range(len(sentences)):\n",
    "    words=nltk.word_tokenize(sentences[i])\n",
    "    words=[word for word in words if word not in set(stopwords.words('english'))]\n",
    "    #sentences[i]=' '.join(words)# converting all the list of words into sentences\n",
    "    pos_tag=nltk.pos_tag(words)\n",
    "    print(pos_tag)"
   ]
  },
  {
   "cell_type": "code",
   "execution_count": 33,
   "id": "25709a59-46bd-4ffd-b517-521184bd4941",
   "metadata": {},
   "outputs": [
    {
     "name": "stdout",
     "output_type": "stream",
     "text": [
      "[('Taj', 'NNP'), ('Mahal', 'NNP'), ('is', 'VBZ'), ('a', 'DT'), ('beautiful', 'JJ'), ('Monument', 'NN')]\n"
     ]
    }
   ],
   "source": [
    "print(nltk.pos_tag(\"Taj Mahal is a beautiful Monument\".split()))"
   ]
  }
 ],
 "metadata": {
  "kernelspec": {
   "display_name": "Python 3 (ipykernel)",
   "language": "python",
   "name": "python3"
  },
  "language_info": {
   "codemirror_mode": {
    "name": "ipython",
    "version": 3
   },
   "file_extension": ".py",
   "mimetype": "text/x-python",
   "name": "python",
   "nbconvert_exporter": "python",
   "pygments_lexer": "ipython3",
   "version": "3.12.4"
  }
 },
 "nbformat": 4,
 "nbformat_minor": 5
}
