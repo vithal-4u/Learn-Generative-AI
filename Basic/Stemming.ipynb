{
 "cells": [
  {
   "cell_type": "markdown",
   "id": "ece0b67f-0f22-4a15-af55-55fbbeb7958b",
   "metadata": {},
   "source": [
    "## Stemming in Natural Language Processing (NLP) is a text preprocessing technique that reduces words to their root or base form, known as the \"stem.\" The process involves removing suffixes or prefixes from inflected or derived word forms to standardize them into a single morphological base. "
   ]
  },
  {
   "cell_type": "code",
   "execution_count": 19,
   "id": "261ba36a-9d75-421e-9b17-45865e715f61",
   "metadata": {},
   "outputs": [],
   "source": [
    "words=[\"eating\",\"eats\",\"eaten\",\"writing\",\"writes\",\"programming\",\"programs\",\"history\",\"finally\",\"finalized\"]"
   ]
  },
  {
   "cell_type": "markdown",
   "id": "75e573c1-4329-487c-95b9-301226ee5fab",
   "metadata": {},
   "source": [
    "## Porter Stemmer"
   ]
  },
  {
   "cell_type": "code",
   "execution_count": 9,
   "id": "09887b59-f082-409f-9226-bee837ea158c",
   "metadata": {},
   "outputs": [],
   "source": [
    "from nltk.stem import PorterStemmer\n",
    "stemming=PorterStemmer()"
   ]
  },
  {
   "cell_type": "code",
   "execution_count": 11,
   "id": "a79e72d5-f03c-42d2-b0a0-481910454654",
   "metadata": {},
   "outputs": [
    {
     "name": "stdout",
     "output_type": "stream",
     "text": [
      "eating---->eat\n",
      "eats---->eat\n",
      "eaten---->eaten\n",
      "writing---->write\n",
      "writes---->write\n",
      "programming---->program\n",
      "programs---->program\n",
      "history---->histori\n",
      "finally---->final\n",
      "finalized---->final\n"
     ]
    }
   ],
   "source": [
    "for word in words:\n",
    "    print(word+\"---->\"+stemming.stem(word))"
   ]
  },
  {
   "cell_type": "code",
   "execution_count": 13,
   "id": "23e77420-e119-471c-88f2-4edd7f8eb1c0",
   "metadata": {},
   "outputs": [
    {
     "data": {
      "text/plain": [
       "'congratul'"
      ]
     },
     "execution_count": 13,
     "metadata": {},
     "output_type": "execute_result"
    }
   ],
   "source": [
    "stemming.stem('congratulations')"
   ]
  },
  {
   "cell_type": "markdown",
   "id": "df34631c-996c-4455-bfd2-b55afcce1be4",
   "metadata": {},
   "source": [
    "## RegexpStemmer"
   ]
  },
  {
   "cell_type": "code",
   "execution_count": 31,
   "id": "b9f8e5dc-519d-489f-9e01-b550273701fe",
   "metadata": {},
   "outputs": [],
   "source": [
    "from nltk.stem import RegexpStemmer\n",
    "reg_stemmer=RegexpStemmer('ing$|s$|e$|able$', min=4)"
   ]
  },
  {
   "cell_type": "code",
   "execution_count": 37,
   "id": "8b1ed224-b32f-4294-846f-aedc16481624",
   "metadata": {},
   "outputs": [
    {
     "data": {
      "text/plain": [
       "'eat'"
      ]
     },
     "execution_count": 37,
     "metadata": {},
     "output_type": "execute_result"
    }
   ],
   "source": [
    "reg_stemmer.stem('eating')\n"
   ]
  },
  {
   "cell_type": "code",
   "execution_count": 39,
   "id": "247e003d-5086-43e8-8724-b834586a7489",
   "metadata": {},
   "outputs": [
    {
     "data": {
      "text/plain": [
       "'ingeat'"
      ]
     },
     "execution_count": 39,
     "metadata": {},
     "output_type": "execute_result"
    }
   ],
   "source": [
    "reg_stemmer.stem('ingeating')"
   ]
  },
  {
   "cell_type": "markdown",
   "id": "4f5990d0-1264-4e57-8f76-5765e0c060f7",
   "metadata": {},
   "source": [
    "## Snowball Stemmer"
   ]
  },
  {
   "cell_type": "code",
   "execution_count": 47,
   "id": "01815bf7-cee8-493d-bd81-f927d3c6a07d",
   "metadata": {},
   "outputs": [],
   "source": [
    "from nltk.stem import SnowballStemmer\n",
    "snowballsstemmer=SnowballStemmer('english')"
   ]
  },
  {
   "cell_type": "code",
   "execution_count": 49,
   "id": "59925b3d-7d85-4272-90be-e37064f53960",
   "metadata": {},
   "outputs": [
    {
     "name": "stdout",
     "output_type": "stream",
     "text": [
      "eating---->eat\n",
      "eats---->eat\n",
      "eaten---->eaten\n",
      "writing---->write\n",
      "writes---->write\n",
      "programming---->program\n",
      "programs---->program\n",
      "history---->histori\n",
      "finally---->final\n",
      "finalized---->final\n"
     ]
    }
   ],
   "source": [
    "for word in words:\n",
    "    print(word+\"---->\"+snowballsstemmer.stem(word))"
   ]
  },
  {
   "cell_type": "markdown",
   "id": "f6725cdb-8d53-492d-a0c1-57e9990f9438",
   "metadata": {},
   "source": [
    "## Compare Porter Stemming and Snowball Stemming"
   ]
  },
  {
   "cell_type": "code",
   "execution_count": 54,
   "id": "dcdfb5dd-9d63-4ec9-8105-6f95fccac419",
   "metadata": {},
   "outputs": [
    {
     "data": {
      "text/plain": [
       "('fairli', 'sportingli')"
      ]
     },
     "execution_count": 54,
     "metadata": {},
     "output_type": "execute_result"
    }
   ],
   "source": [
    "stemming.stem(\"fairly\"),stemming.stem(\"sportingly\")"
   ]
  },
  {
   "cell_type": "code",
   "execution_count": 56,
   "id": "f5269e67-e8f3-4e38-84a0-c1e701fa45e0",
   "metadata": {},
   "outputs": [
    {
     "data": {
      "text/plain": [
       "('fair', 'sport')"
      ]
     },
     "execution_count": 56,
     "metadata": {},
     "output_type": "execute_result"
    }
   ],
   "source": [
    "snowballsstemmer.stem(\"fairly\"),snowballsstemmer.stem(\"sportingly\")"
   ]
  },
  {
   "cell_type": "code",
   "execution_count": 58,
   "id": "81d8ad16-110b-4158-83c0-41515bcdd6ac",
   "metadata": {},
   "outputs": [
    {
     "data": {
      "text/plain": [
       "'goe'"
      ]
     },
     "execution_count": 58,
     "metadata": {},
     "output_type": "execute_result"
    }
   ],
   "source": [
    "snowballsstemmer.stem('goes')"
   ]
  },
  {
   "cell_type": "code",
   "execution_count": 60,
   "id": "afe341af-672b-4227-8823-80e220e15759",
   "metadata": {},
   "outputs": [
    {
     "data": {
      "text/plain": [
       "'goe'"
      ]
     },
     "execution_count": 60,
     "metadata": {},
     "output_type": "execute_result"
    }
   ],
   "source": [
    "stemming.stem('goes')"
   ]
  },
  {
   "cell_type": "markdown",
   "id": "aef3e869-82e3-4cba-8f7c-dc239a430f68",
   "metadata": {},
   "source": [
    "## Lancaster Stemmer : The Lancaster Stemmer (also called the Paice-Husk stemmer) in NLTK is an aggressive stemming algorithm designed to reduce words to their root form with high speed and simplicity. It is known for being more aggressive than the Porter and Snowball stemmers, meaning it often shortens words more dramatically and may sometimes produce stems that are not valid English words."
   ]
  },
  {
   "cell_type": "code",
   "execution_count": 72,
   "id": "b960e03e-e610-4228-8a93-76565af782c5",
   "metadata": {},
   "outputs": [],
   "source": [
    "from nltk.stem import LancasterStemmer\n",
    "lancaster = LancasterStemmer()"
   ]
  },
  {
   "cell_type": "code",
   "execution_count": 70,
   "id": "7a264c3d-0aa1-4b7d-aefc-7bf9edbe90c9",
   "metadata": {},
   "outputs": [],
   "source": [
    "# List of words to stem\n",
    "words = [\"playing\", \"played\", \"plays\", \"player\", \"pharmacies\", \"badly\"]"
   ]
  },
  {
   "cell_type": "code",
   "execution_count": 76,
   "id": "b9ea37e8-6cc8-4d83-8dd4-250e68a53372",
   "metadata": {},
   "outputs": [
    {
     "name": "stdout",
     "output_type": "stream",
     "text": [
      "['play', 'play', 'play', 'play', 'pharm', 'bad']\n"
     ]
    }
   ],
   "source": [
    "# Stem each word in the list\n",
    "stems = [lancaster.stem(word) for word in words]\n",
    "print(stems)"
   ]
  },
  {
   "cell_type": "code",
   "execution_count": 78,
   "id": "fee1dbb3-97ae-44c7-aba4-4143669107d3",
   "metadata": {},
   "outputs": [
    {
     "name": "stdout",
     "output_type": "stream",
     "text": [
      "dog\n",
      "shoot\n",
      "shot\n",
      "standart\n"
     ]
    }
   ],
   "source": [
    "print(lancaster.stem(\"dogs\"))        # Output: 'dog'\n",
    "print(lancaster.stem(\"shooting\"))    # Output: 'shoot'\n",
    "print(lancaster.stem(\"shot\"))        # Output: 'shot'\n",
    "print(lancaster.stem(\"standartization\")) # Output: 'standart'"
   ]
  },
  {
   "cell_type": "code",
   "execution_count": 80,
   "id": "72a75afc-f3f0-4748-9469-19c48b7b2d13",
   "metadata": {},
   "outputs": [
    {
     "name": "stdout",
     "output_type": "stream",
     "text": [
      "univers\n"
     ]
    }
   ],
   "source": [
    "print(lancaster.stem(\"university\"));"
   ]
  },
  {
   "cell_type": "code",
   "execution_count": null,
   "id": "4db2e307-cd19-403e-bcdc-d1f9f03924ad",
   "metadata": {},
   "outputs": [],
   "source": []
  }
 ],
 "metadata": {
  "kernelspec": {
   "display_name": "Python 3 (ipykernel)",
   "language": "python",
   "name": "python3"
  },
  "language_info": {
   "codemirror_mode": {
    "name": "ipython",
    "version": 3
   },
   "file_extension": ".py",
   "mimetype": "text/x-python",
   "name": "python",
   "nbconvert_exporter": "python",
   "pygments_lexer": "ipython3",
   "version": "3.12.4"
  }
 },
 "nbformat": 4,
 "nbformat_minor": 5
}
